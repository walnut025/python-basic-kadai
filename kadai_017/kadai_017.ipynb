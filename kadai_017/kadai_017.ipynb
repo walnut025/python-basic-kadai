{
  "nbformat": 4,
  "nbformat_minor": 0,
  "metadata": {
    "colab": {
      "provenance": []
    },
    "kernelspec": {
      "name": "python3",
      "display_name": "Python 3"
    },
    "language_info": {
      "name": "python"
    }
  },
  "cells": [
    {
      "cell_type": "code",
      "source": [
        "class Human:\n",
        "    def _init_(self, name, age):\n",
        "        self.name = name\n",
        "        self.age = age\n",
        "\n",
        "    def check_adult(self):\n",
        "        if self.age >= 20:\n",
        "            return f\"{self.name}は大人です。\"\n",
        "        else:\n",
        "            return f\"{self.name}は大人ではありません。\"\n",
        "\n",
        "# 関数を定義してHumanインスタンスを生成\n",
        "def create_humans(data):\n",
        "    humans = []\n",
        "    for item in data:\n",
        "        name, age = item['name'], item['age']  # ディクショナリから値を取得する\n",
        "        human = Human(name, age)\n",
        "        humans.append(human)  # リストにインスタンスを追加する\n",
        "    return humans\n",
        "\n",
        "# 関数を定義してチェック処理を実行する\n",
        "def check_all_adults(humans):\n",
        "    for human in humans:  # 繰り返し処理を実行する\n",
        "        print(human.check_adult())  # check_adultメソッドを呼び出す\n",
        "\n",
        "# ディクショナリで人物データを定義する（変数のスコープ：グローバルスコープ）\n",
        "human_data = [\n",
        "    {'name': '侍太郎', 'age': 36},\n",
        "    {'name': '侍二郎', 'age': 30},\n",
        "    {'name': '侍花子', 'age': 24},\n",
        "    {'name': '侍三郎', 'age': 18}\n",
        "]\n",
        "\n",
        "# Humanインスタンスを作成する（変数のスコープ：ローカルスコープ）\n",
        "human_list = create_humans(human_data)\n",
        "\n",
        "# すべてのインスタンスに対してチェック処理を実行する\n",
        "check_all_adults(human_list)"
      ],
      "metadata": {
        "colab": {
          "base_uri": "https://localhost:8080/"
        },
        "id": "FcxBrRb_dHts",
        "outputId": "01a705c9-b626-44d5-eff9-6fdf5b5f4cf1"
      },
      "execution_count": 13,
      "outputs": [
        {
          "output_type": "stream",
          "name": "stdout",
          "text": [
            "侍太郎は大人です。\n",
            "侍二郎は大人です。\n",
            "侍花子は大人です。\n",
            "侍三郎は大人ではありません。\n"
          ]
        }
      ]
    }
  ]
}
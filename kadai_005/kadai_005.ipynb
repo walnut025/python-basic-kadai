{
  "nbformat": 4,
  "nbformat_minor": 0,
  "metadata": {
    "colab": {
      "provenance": []
    },
    "kernelspec": {
      "name": "python3",
      "display_name": "Python 3"
    },
    "language_info": {
      "name": "python"
    }
  },
  "cells": [
    {
      "cell_type": "code",
      "execution_count": 1,
      "metadata": {
        "colab": {
          "base_uri": "https://localhost:8080/"
        },
        "id": "JR6S2UpV4zxE",
        "outputId": "c1006528-7372-4f72-cd26-7cc2798b9d2c"
      },
      "outputs": [
        {
          "output_type": "stream",
          "name": "stdout",
          "text": [
            "（ （ 10 + 20) * 5/2)=75.0cm²\n",
            "（ （ 10 + 20) * 5/2)=75.0cm²\n"
          ]
        }
      ],
      "source": [
        " jyouhenn = 10 #上辺\n",
        " kahenn = 20 #下辺\n",
        " takasa = 5 #高さ\n",
        " tanni = \"cm²\" #単位\n",
        " #公式：台形の面積 = (上辺＋下辺)×高さ÷2\n",
        "\n",
        " print(\"（ \" + \"（ \"+ str(jyouhenn) + \" + \" + str(kahenn) + \")\"  + \" * \" + str(takasa)+ \"/\" + str(2) + \")\" + \"=\" + str((jyouhenn + kahenn) * takasa / 2)+ \"cm²\" )\n",
        " print(\"（ \" + \"（ \"+ str(jyouhenn) + \" + \" + str(kahenn) + \")\"  + \" * \" + str(takasa)+ \"/\" + str(2) + \")\" + \"=\" + str((jyouhenn + kahenn) * takasa / 2)+ str(tanni ))"
      ]
    }
  ]
}
{
  "nbformat": 4,
  "nbformat_minor": 0,
  "metadata": {
    "colab": {
      "provenance": []
    },
    "kernelspec": {
      "name": "python3",
      "display_name": "Python 3"
    },
    "language_info": {
      "name": "python"
    }
  },
  "cells": [
    {
      "cell_type": "code",
      "execution_count": 5,
      "metadata": {
        "colab": {
          "base_uri": "https://localhost:8080/"
        },
        "id": "JR6S2UpV4zxE",
        "outputId": "7a7dd5be-4c0d-4044-aeb5-5cf8591b56c1"
      },
      "outputs": [
        {
          "output_type": "stream",
          "name": "stdout",
          "text": [
            "（ （ 10 + 20) * 5/2)=75.0cm²\n",
            "（ （ 10 + 20) * 5/2)=75.0cm²\n"
          ]
        }
      ],
      "source": [
        " jyouhenn = 10 #上辺\n",
        " kahenn = 20 #下辺\n",
        " takasa = 5 #高さ\n",
        " tanni = \"cm²\" #単位\n",
        " mennseki = ((jyouhenn + kahenn) * takasa / 2)  #台形の面積 = (上辺＋下辺)×高さ÷2\n",
        "\n",
        " print(\"（ \" + \"（ \"+ str(jyouhenn) + \" + \" + str(kahenn) + \")\"  + \" * \" + str(takasa)+ \"/\" + str(2) + \")\" + \"=\" + str(mennseki)+ \"cm²\" )\n",
        " print(\"（ \" + \"（ \"+ str(jyouhenn) + \" + \" + str(kahenn) + \")\"  + \" * \" + str(takasa)+ \"/\" + str(2) + \")\" + \"=\" + str(mennseki)+ str(tanni ))"
      ]
    }
  ]
}
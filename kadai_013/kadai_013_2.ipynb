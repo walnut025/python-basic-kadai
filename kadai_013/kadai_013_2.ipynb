{
  "nbformat": 4,
  "nbformat_minor": 0,
  "metadata": {
    "colab": {
      "provenance": [],
      "toc_visible": true
    },
    "kernelspec": {
      "name": "python3",
      "display_name": "Python 3"
    },
    "language_info": {
      "name": "python"
    }
  },
  "cells": [
    {
      "cell_type": "code",
      "source": [
        "def add_two_arguments(price, shipping_fee):\n",
        "    # 合計金額を計算して戻り値を返す\n",
        "    total = price + price * shipping_fee / 100\n",
        "    return total\n",
        "\n",
        "# 関数を呼び出し、結果を出力する\n",
        "result = add_two_arguments(110, 10)\n",
        "print(f\"{result}円\")\n"
      ],
      "metadata": {
        "colab": {
          "base_uri": "https://localhost:8080/"
        },
        "id": "Hhk26xn-GyM-",
        "outputId": "3f2706b2-522f-44da-8cbc-a7be89c98e7c"
      },
      "execution_count": 9,
      "outputs": [
        {
          "output_type": "stream",
          "name": "stdout",
          "text": [
            "121.0円\n"
          ]
        }
      ]
    }
  ]
}
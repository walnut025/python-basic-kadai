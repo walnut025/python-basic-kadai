{
  "nbformat": 4,
  "nbformat_minor": 0,
  "metadata": {
    "colab": {
      "provenance": []
    },
    "kernelspec": {
      "name": "python3",
      "display_name": "Python 3"
    },
    "language_info": {
      "name": "python"
    }
  },
  "cells": [
    {
      "cell_type": "code",
      "execution_count": 2,
      "metadata": {
        "colab": {
          "base_uri": "https://localhost:8080/"
        },
        "id": "QAFObDbCSkR0",
        "outputId": "6dd270a9-e020-4ff8-a4e0-2bbb503a0d26"
      },
      "outputs": [
        {
          "output_type": "stream",
          "name": "stdout",
          "text": [
            "name: 侍太郎, age: 36\n"
          ]
        }
      ],
      "source": [
        "# クラスを定義する\n",
        "class Human:\n",
        "    def __init__(self, name, age): # Changed _init_ to __init__\n",
        "        self.name = name\n",
        "        self.age = age\n",
        "\n",
        "    def printinfo(self):\n",
        "        print(f\"name: {self.name}, age: {self.age}\")\n",
        "\n",
        "# インスタンス化する\n",
        "human_instance = Human(\"侍太郎\", 36)\n",
        "\n",
        "# メソッドを使用する\n",
        "human_instance.printinfo()\n"
      ]
    }
  ]
}
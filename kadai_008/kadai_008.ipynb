{
  "nbformat": 4,
  "nbformat_minor": 0,
  "metadata": {
    "colab": {
      "provenance": []
    },
    "kernelspec": {
      "name": "python3",
      "display_name": "Python 3"
    },
    "language_info": {
      "name": "python"
    }
  },
  "cells": [
    {
      "cell_type": "code",
      "execution_count": 56,
      "metadata": {
        "colab": {
          "base_uri": "https://localhost:8080/"
        },
        "id": "hjPWfDolnpio",
        "outputId": "7d413dd1-3f43-4bf5-93a7-1507e1dc606b"
      },
      "outputs": [
        {
          "output_type": "stream",
          "name": "stdout",
          "text": [
            "75\n",
            "FizzBuzz\n"
          ]
        }
      ],
      "source": [
        " #ランダムな整数を利用するために、randomモジュールをインポート\n",
        " import random\n",
        "\n",
        " # varに1から150までのランダムな整数を代入 # 任意の範囲の正の整数にて設定\n",
        " var = random.randint(1, 150)\n",
        " print(var)\n",
        "\n",
        " # if文を用いて条件分岐を行う\n",
        " if var % 3 == 0 and var % 5 == 0:  # 3の倍数と5の倍数の両方に該当する場合\n",
        "     print(\"FizzBuzz\")\n",
        " elif var % 3 == 0:  # 3の倍数の場合\n",
        "     print(\"Fizz\")\n",
        " elif var % 5 == 0:  # 5の倍数の場合\n",
        "     print(\"Buzz\")\n",
        " else:\n",
        "     print(var)  # 上記のどの場合にも該当しない場合"
      ]
    }
  ]
}